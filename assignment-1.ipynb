{
 "cells": [
  {
   "cell_type": "markdown",
   "id": "e0ea258f-7a93-4c0e-8d46-3e0586dc1e9e",
   "metadata": {},
   "source": [
    "Q1. Create one variable containing following type of data:"
   ]
  },
  {
   "cell_type": "code",
   "execution_count": 2,
   "id": "86807036-a595-4f09-a85e-d8fc691fcc77",
   "metadata": {},
   "outputs": [
    {
     "name": "stdout",
     "output_type": "stream",
     "text": [
      "<class 'str'>\n",
      "<class 'list'>\n",
      "<class 'float'>\n",
      "<class 'tuple'>\n"
     ]
    }
   ],
   "source": [
    "a1 = \"name\"\n",
    "print(type(a1))\n",
    "\n",
    "a2 = [1, 2, 3, 4]\n",
    "print(type(a2))\n",
    "\n",
    "a3 = 3.14\n",
    "print(type(a3))\n",
    "\n",
    "a4 = (1, 2)\n",
    "print(type(a4))"
   ]
  },
  {
   "cell_type": "markdown",
   "id": "e50f4ad0-f02a-4194-a09b-fe6594217272",
   "metadata": {},
   "source": [
    "Q2. Given are some following variables containing data:"
   ]
  },
  {
   "cell_type": "markdown",
   "id": "12ed6898-a573-4d6b-9490-aa44774f006f",
   "metadata": {},
   "source": [
    "(i) var1 = ‘ ‘\n",
    "=> string\n",
    "\n",
    "(ii) var2 = ‘[ DS , ML , Python]’\n",
    "=> string\n",
    "\n",
    "(iii) var3 = [ ‘DS’ , ’ML’ , ‘Python’ ]\n",
    "=> list\n",
    "\n",
    "(iv) var4 = 1.\n",
    "=> float"
   ]
  },
  {
   "cell_type": "markdown",
   "id": "1b82b8c7-156c-4f32-8908-b1bdab6bd516",
   "metadata": {},
   "source": [
    "Q3. Explain the use of the following operators using an example:"
   ]
  },
  {
   "cell_type": "markdown",
   "id": "808efaf5-3618-4093-b449-6ac8d700fe85",
   "metadata": {},
   "source": [
    "(i) / => division\n",
    "Ex: 3/2 => 1.5"
   ]
  },
  {
   "cell_type": "markdown",
   "id": "b134562c-901d-494a-b232-03de4158a03a",
   "metadata": {},
   "source": [
    "(ii) % => modulus/remainder Ex: 3%2 = 1"
   ]
  },
  {
   "cell_type": "markdown",
   "id": "1ed8e81d-3f87-4bd0-b689-941777222b3d",
   "metadata": {},
   "source": [
    "(iii) // => floor division Ex: 3//2 = 1"
   ]
  },
  {
   "cell_type": "markdown",
   "id": "3fc9aa23-88ab-4fb7-9f66-587e7a42b39e",
   "metadata": {},
   "source": [
    "(iv) ** => power operator Ex: 3**2 = 9"
   ]
  },
  {
   "cell_type": "markdown",
   "id": "afae0fe7-835c-45ea-9024-d1a457a9cac5",
   "metadata": {},
   "source": [
    "Q4. Create a list of length 10 of your choice containing multiple types of data. Using for loop print the\n",
    "element and its data type."
   ]
  },
  {
   "cell_type": "code",
   "execution_count": 11,
   "id": "47cfcc31-e6fe-4a09-ad0f-48fbf840b582",
   "metadata": {},
   "outputs": [
    {
     "name": "stdout",
     "output_type": "stream",
     "text": [
      "10\n",
      "--------------------------\n",
      "1 => <class 'int'>\n",
      "2 => <class 'int'>\n",
      "ABC => <class 'str'>\n",
      "3.14 => <class 'float'>\n",
      "(2+4j) => <class 'complex'>\n",
      "str => <class 'str'>\n",
      "True => <class 'bool'>\n",
      "[10, 20] => <class 'list'>\n",
      "(10, 30) => <class 'tuple'>\n",
      "43 => <class 'int'>\n"
     ]
    }
   ],
   "source": [
    "list1 = [1, 2, \"ABC\", 3.14, 2+4j, \"str\", True, [10, 20], (10, 30), 43]\n",
    "print(len(list1))\n",
    "print(\"--------------------------\")\n",
    "for item in list1:\n",
    "    print(f\"{item} => {type(item)}\")"
   ]
  },
  {
   "cell_type": "markdown",
   "id": "28d71b18-423a-4fbb-8a13-c1c191fe2c57",
   "metadata": {},
   "source": [
    "Q5. Using a while loop, verify if the number A is purely divisible by number B and if so then how many\n",
    "times it can be divisible."
   ]
  },
  {
   "cell_type": "code",
   "execution_count": 17,
   "id": "b3426b26-0afc-4386-8dc8-8d1c42d43c77",
   "metadata": {},
   "outputs": [
    {
     "name": "stdin",
     "output_type": "stream",
     "text": [
      "Enter first number 16\n",
      "Enter second number 2\n"
     ]
    },
    {
     "name": "stdout",
     "output_type": "stream",
     "text": [
      "16 is divisble by 2 => 4 times\n"
     ]
    }
   ],
   "source": [
    "A = int(input(\"Enter first number\"))\n",
    "B = int(input(\"Enter second number\"))\n",
    "count = 0\n",
    "\n",
    "if (A % B) == 0:\n",
    "    temp = A\n",
    "    while (temp % B) == 0:\n",
    "        temp = temp / B\n",
    "        count += 1\n",
    "    print(f\"{A} is divisble by {B} => {count} times\")\n",
    "else:\n",
    "    print(f\"{A} is not purely divisible by {B}\")"
   ]
  },
  {
   "cell_type": "markdown",
   "id": "f62aa93d-2e99-42c8-95f5-e8d2899bf646",
   "metadata": {},
   "source": [
    "Q6. Create a list containing 25 int type data. Using for loop and if-else condition print if the element is\n",
    "divisible by 3 or not."
   ]
  },
  {
   "cell_type": "code",
   "execution_count": 19,
   "id": "727e8d52-f3ac-4d9e-82d3-3d65828a4cc7",
   "metadata": {},
   "outputs": [
    {
     "name": "stdout",
     "output_type": "stream",
     "text": [
      "[0, 1, 2, 3, 4, 5, 6, 7, 8, 9, 10, 11, 12, 13, 14, 15, 16, 17, 18, 19, 20, 21, 22, 23, 24]\n",
      "0 is divisible by 3\n",
      "1 is not divisible by 3\n",
      "2 is not divisible by 3\n",
      "3 is divisible by 3\n",
      "4 is not divisible by 3\n",
      "5 is not divisible by 3\n",
      "6 is divisible by 3\n",
      "7 is not divisible by 3\n",
      "8 is not divisible by 3\n",
      "9 is divisible by 3\n",
      "10 is not divisible by 3\n",
      "11 is not divisible by 3\n",
      "12 is divisible by 3\n",
      "13 is not divisible by 3\n",
      "14 is not divisible by 3\n",
      "15 is divisible by 3\n",
      "16 is not divisible by 3\n",
      "17 is not divisible by 3\n",
      "18 is divisible by 3\n",
      "19 is not divisible by 3\n",
      "20 is not divisible by 3\n",
      "21 is divisible by 3\n",
      "22 is not divisible by 3\n",
      "23 is not divisible by 3\n",
      "24 is divisible by 3\n"
     ]
    }
   ],
   "source": [
    "l1 = [i for i in range(25)]\n",
    "print(l1)\n",
    "\n",
    "for i in range(len(l1)):\n",
    "    if (i % 3) == 0:\n",
    "        print(f\"{i} is divisible by 3\")\n",
    "    else:\n",
    "        print(f\"{i} is not divisible by 3\")"
   ]
  },
  {
   "cell_type": "markdown",
   "id": "676161d9-497c-4ea1-b8c1-da6a424745f9",
   "metadata": {},
   "source": [
    "Q7. What do you understand about mutable and immutable data types? Give examples for both showing\n",
    "this property.\n",
    " "
   ]
  },
  {
   "cell_type": "markdown",
   "id": "a8c5163e-afc4-45ba-abc4-5868fe6f56e0",
   "metadata": {},
   "source": [
    "Mutable data types are those whose existing data can be changed.\n",
    "Ex: list"
   ]
  },
  {
   "cell_type": "markdown",
   "id": "58992c11-c9cf-4f16-9c4a-a68d3bcffc17",
   "metadata": {},
   "source": [
    "Immutable data types are those whose existing data cannot be changed but are iterable.\n",
    "Ex: string, tuple"
   ]
  },
  {
   "cell_type": "code",
   "execution_count": null,
   "id": "a8ec5739-610d-4e5a-8f66-e5b89b017d8a",
   "metadata": {},
   "outputs": [],
   "source": []
  }
 ],
 "metadata": {
  "kernelspec": {
   "display_name": "Python 3 (ipykernel)",
   "language": "python",
   "name": "python3"
  },
  "language_info": {
   "codemirror_mode": {
    "name": "ipython",
    "version": 3
   },
   "file_extension": ".py",
   "mimetype": "text/x-python",
   "name": "python",
   "nbconvert_exporter": "python",
   "pygments_lexer": "ipython3",
   "version": "3.10.8"
  }
 },
 "nbformat": 4,
 "nbformat_minor": 5
}
