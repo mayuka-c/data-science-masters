{
 "cells": [
  {
   "cell_type": "markdown",
   "id": "f71fe867-f613-4783-ae89-0ed2e854eaeb",
   "metadata": {},
   "source": [
    "# Q1. Which keyword is used to create a function? Create a function to return a list of odd numbers in the range of 1 to 25."
   ]
  },
  {
   "cell_type": "markdown",
   "id": "479b1816-a5cf-4a61-b175-1cdf027cb660",
   "metadata": {},
   "source": [
    "def keyword is used to create a function"
   ]
  },
  {
   "cell_type": "code",
   "execution_count": 1,
   "id": "c1983e24-3eba-4df1-94b8-91d09a2819fa",
   "metadata": {},
   "outputs": [
    {
     "name": "stdout",
     "output_type": "stream",
     "text": [
      "[1, 3, 5, 7, 9, 11, 13, 15, 17, 19, 21, 23]\n"
     ]
    }
   ],
   "source": [
    "def list_odd():\n",
    "    l1 = [i for i in range(1,25) if i % 2 != 0]\n",
    "    return l1\n",
    "\n",
    "print(list_odd())"
   ]
  },
  {
   "cell_type": "markdown",
   "id": "7a19e426-77f8-443c-bb46-afb5d0c6db07",
   "metadata": {},
   "source": [
    "# Q2. Why *args and **kwargs is used in some functions? Create a function each for *args and **kwargs to demonstrate their use."
   ]
  },
  {
   "cell_type": "markdown",
   "id": "7ab797f6-9f13-4f00-80dd-9292250b9db8",
   "metadata": {},
   "source": [
    "*args is used to pass variable number of arguments to a function. **kwargs is used to pass variable number of \n",
    "key value pairs as arguments to a function"
   ]
  },
  {
   "cell_type": "code",
   "execution_count": 4,
   "id": "a3b68a78-acaf-4f24-bc8f-e6ccb972fce7",
   "metadata": {},
   "outputs": [
    {
     "name": "stdout",
     "output_type": "stream",
     "text": [
      "3\n",
      "15\n"
     ]
    }
   ],
   "source": [
    "def add(*args):\n",
    "    total = 0\n",
    "    for i in range(len(args)):\n",
    "        total += args[i]\n",
    "    return total\n",
    "\n",
    "print(add(1,2))\n",
    "print(add(1,2,3,4,5))"
   ]
  },
  {
   "cell_type": "code",
   "execution_count": 8,
   "id": "9c2d1e6d-5000-4356-a63c-aff80415c29d",
   "metadata": {},
   "outputs": [
    {
     "name": "stdout",
     "output_type": "stream",
     "text": [
      "name => ABC\n",
      "age => 20\n",
      "\n",
      "name => XYZ\n",
      "age => 40\n",
      "phone => 3333\n",
      "\n"
     ]
    }
   ],
   "source": [
    "def printInfo(**kwargs):\n",
    "    for key, value in kwargs.items():\n",
    "        print(f'{key} => {value}')\n",
    "    print()\n",
    "\n",
    "printInfo(name=\"ABC\", age=\"20\")\n",
    "printInfo(name=\"XYZ\", age=\"40\", phone=\"3333\")"
   ]
  },
  {
   "cell_type": "markdown",
   "id": "4f250713-b41c-4e5d-9287-d0b5c7725b24",
   "metadata": {},
   "source": [
    "# Q3. What is an iterator in python? Name the method used to initialise the iterator object and the method used for iteration. Use these methods to print the first five elements of the given list [2, 4, 6, 8, 10, 12, 14, 16,18, 20]."
   ]
  },
  {
   "cell_type": "markdown",
   "id": "7c12f950-e3ea-416d-9a3f-63d00f9af85e",
   "metadata": {},
   "source": [
    "An iterator is an object which is used to traverse through collection of data (iterables) such as lists, typles etc.\n",
    "iter() is the method to initialize the iterator object and next() is the method used for iteration."
   ]
  },
  {
   "cell_type": "code",
   "execution_count": 11,
   "id": "77a581fa-7c92-4661-9fc0-73cec6428a54",
   "metadata": {},
   "outputs": [
    {
     "name": "stdout",
     "output_type": "stream",
     "text": [
      "2\n",
      "4\n",
      "6\n",
      "8\n",
      "10\n"
     ]
    }
   ],
   "source": [
    "l2 = [2, 4, 6, 8, 10, 12, 14, 16, 18, 20]\n",
    "iter_obj = iter(l2)\n",
    "print(next(iter_obj))\n",
    "print(next(iter_obj))\n",
    "print(next(iter_obj))\n",
    "print(next(iter_obj))\n",
    "print(next(iter_obj))"
   ]
  },
  {
   "cell_type": "markdown",
   "id": "f689c10b-a54e-4626-a35e-a1198118c95b",
   "metadata": {},
   "source": [
    "# Q4. What is a generator function in python? Why yield keyword is used? Give an example of a generator function."
   ]
  },
  {
   "cell_type": "markdown",
   "id": "770d68dd-e35a-4307-9205-3d4a3e0139ac",
   "metadata": {},
   "source": [
    "Generator is a function which is responsible to generate a sequence of values"
   ]
  },
  {
   "cell_type": "markdown",
   "id": "23792126-4401-4954-8e31-a85841040101",
   "metadata": {},
   "source": [
    "yield is used in generator function instead of return to return the sequence of values and to control the flow of generator function"
   ]
  },
  {
   "cell_type": "code",
   "execution_count": 13,
   "id": "67573514-b8c3-4073-9692-de738a12c31c",
   "metadata": {},
   "outputs": [
    {
     "name": "stdout",
     "output_type": "stream",
     "text": [
      "1\n",
      "2\n",
      "3\n",
      "4\n",
      "5\n",
      "6\n",
      "7\n",
      "8\n",
      "9\n",
      "10\n"
     ]
    }
   ],
   "source": [
    "# First n natural numbers\n",
    "def firstn(num): \n",
    "    n=1 \n",
    "    while n<=num:\n",
    "        yield n\n",
    "        n=n+1\n",
    "        \n",
    "values = firstn(10)\n",
    "for value in values:\n",
    "    print(value)"
   ]
  },
  {
   "cell_type": "markdown",
   "id": "1cf5d037-c237-4f3c-b6ff-e71de4aa60b8",
   "metadata": {},
   "source": [
    "# Q5. Create a generator function for prime numbers less than 1000. Use the next() method to print the first 20 prime numbers."
   ]
  },
  {
   "cell_type": "code",
   "execution_count": 17,
   "id": "8bb9e369-c38f-4fb8-8d33-37863a199ab3",
   "metadata": {},
   "outputs": [
    {
     "name": "stdout",
     "output_type": "stream",
     "text": [
      "2\n",
      "3\n",
      "5\n",
      "7\n",
      "11\n",
      "13\n",
      "17\n",
      "19\n",
      "23\n",
      "29\n",
      "31\n",
      "37\n",
      "41\n",
      "43\n",
      "47\n",
      "53\n",
      "59\n",
      "61\n",
      "67\n",
      "71\n"
     ]
    }
   ],
   "source": [
    "def prime_numbers(nums):\n",
    "    i = 2\n",
    "    while i < nums :\n",
    "        prime = True\n",
    "        for a in range(2, i):\n",
    "            if i%a == 0:\n",
    "                prime = False\n",
    "                break\n",
    "        if prime:    \n",
    "            yield i\n",
    "        i += 1\n",
    "\n",
    "iter_obj = prime_numbers(1000)\n",
    "print(next(iter_obj))\n",
    "print(next(iter_obj))\n",
    "print(next(iter_obj))\n",
    "print(next(iter_obj))\n",
    "print(next(iter_obj))\n",
    "print(next(iter_obj))\n",
    "print(next(iter_obj))\n",
    "print(next(iter_obj))\n",
    "print(next(iter_obj))\n",
    "print(next(iter_obj))\n",
    "print(next(iter_obj))\n",
    "print(next(iter_obj))\n",
    "print(next(iter_obj))\n",
    "print(next(iter_obj))\n",
    "print(next(iter_obj))\n",
    "print(next(iter_obj))\n",
    "print(next(iter_obj))\n",
    "print(next(iter_obj))\n",
    "print(next(iter_obj))\n",
    "print(next(iter_obj))"
   ]
  }
 ],
 "metadata": {
  "kernelspec": {
   "display_name": "Python 3 (ipykernel)",
   "language": "python",
   "name": "python3"
  },
  "language_info": {
   "codemirror_mode": {
    "name": "ipython",
    "version": 3
   },
   "file_extension": ".py",
   "mimetype": "text/x-python",
   "name": "python",
   "nbconvert_exporter": "python",
   "pygments_lexer": "ipython3",
   "version": "3.10.8"
  }
 },
 "nbformat": 4,
 "nbformat_minor": 5
}
