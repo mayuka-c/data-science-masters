{
 "cells": [
  {
   "cell_type": "markdown",
   "id": "60d61d84-b653-4254-852e-1e619d8c8642",
   "metadata": {},
   "source": [
    "Q1. How do you comment code in Python? What are the different types of comments?"
   ]
  },
  {
   "cell_type": "markdown",
   "id": "3a7c3d6b-7be9-40b9-b351-705d8a3c3d55",
   "metadata": {},
   "source": [
    "Code can be commented by using '#', '''''' (triple quotes for multi-line comments)\n",
    "\n",
    "There are 2 types of comments\n",
    "Single line comment: #\n",
    "Multiline comments: using doc string (\"\"\"\n",
    "                                        \"\"\")"
   ]
  },
  {
   "cell_type": "markdown",
   "id": "11b54d80-374e-4eda-9b30-e04f98c48280",
   "metadata": {},
   "source": [
    "Q2. What are variables in Python? How do you declare and assign values to variables?"
   ]
  },
  {
   "cell_type": "markdown",
   "id": "98ff3168-68f1-42c4-ac27-f1fea09a0a2a",
   "metadata": {},
   "source": [
    "Variables are the place-holders for the values in memory. \n",
    "Variables can be declared using:-\n",
    "a = 10, \n",
    "b = \"str\""
   ]
  },
  {
   "cell_type": "markdown",
   "id": "a12a4665-6d90-4e37-ac50-8d66d7c3a44d",
   "metadata": {},
   "source": [
    "Q3. How do you convert one data type to another in Python?"
   ]
  },
  {
   "cell_type": "markdown",
   "id": "0e0ef965-222b-4a2b-8188-f20212b0f76a",
   "metadata": {},
   "source": [
    "Data type can be converted from one to another by using respective in-built functions"
   ]
  },
  {
   "cell_type": "code",
   "execution_count": 3,
   "id": "32a3e337-8195-4256-9b3c-6de370ef72d0",
   "metadata": {},
   "outputs": [
    {
     "name": "stdout",
     "output_type": "stream",
     "text": [
      "<class 'str'>\n"
     ]
    }
   ],
   "source": [
    "a = 10\n",
    "b = str(a)\n",
    "print(type(b))"
   ]
  },
  {
   "cell_type": "markdown",
   "id": "82cb36c3-4a4f-4a7e-b92b-ed282c0b3a01",
   "metadata": {},
   "source": [
    "Q4. How do you write and execute a Python script from the command line?"
   ]
  },
  {
   "cell_type": "markdown",
   "id": "aa7eafd0-8959-4e4f-b319-baf0f4e1240e",
   "metadata": {},
   "source": [
    "Create a python script with `.py` extension for example `test.py`. Then execute the script by using the command `python3 test.py`"
   ]
  },
  {
   "cell_type": "markdown",
   "id": "74911076-d8bd-4cbc-9cd7-13e888cec2b6",
   "metadata": {},
   "source": [
    "Q5. Given a list my_list = [1, 2, 3, 4, 5], write the code to slice the list and obtain the sub-list [2, 3]."
   ]
  },
  {
   "cell_type": "code",
   "execution_count": 5,
   "id": "d15bc5e0-f97c-42d3-a3ed-f69f4d24b0d0",
   "metadata": {},
   "outputs": [
    {
     "name": "stdout",
     "output_type": "stream",
     "text": [
      "[2, 3]\n"
     ]
    }
   ],
   "source": [
    "my_list = [1, 2, 3, 4, 5]\n",
    "sub_list = my_list[1:3]\n",
    "print(sub_list)"
   ]
  },
  {
   "cell_type": "markdown",
   "id": "4574e59a-1de3-4180-8a76-cffc487a4b83",
   "metadata": {},
   "source": [
    "Q6. What is a complex number in mathematics, and how is it represented in Python?"
   ]
  },
  {
   "cell_type": "markdown",
   "id": "d01789a7-0854-4bd5-ae85-7728bc17d746",
   "metadata": {},
   "source": [
    "Complex number are the numbers represented in a+bj where a is real and b is imaginary part"
   ]
  },
  {
   "cell_type": "code",
   "execution_count": 8,
   "id": "1b99aadf-ee8c-45a2-98a9-4c74946e0b0a",
   "metadata": {},
   "outputs": [
    {
     "name": "stdout",
     "output_type": "stream",
     "text": [
      "<class 'complex'>\n"
     ]
    }
   ],
   "source": [
    "comp = 3+4j\n",
    "print(type(comp))"
   ]
  },
  {
   "cell_type": "markdown",
   "id": "ad90fc12-9905-4e94-a7c9-c8aa5c7699c5",
   "metadata": {},
   "source": [
    "Q7. What is the correct way to declare a variable named age and assign the value 25 to it?"
   ]
  },
  {
   "cell_type": "code",
   "execution_count": 9,
   "id": "d77ccc03-1034-4992-b45d-3171a791908e",
   "metadata": {},
   "outputs": [],
   "source": [
    "age = 25"
   ]
  },
  {
   "cell_type": "markdown",
   "id": "7563451c-2379-44a2-9d2b-2b700af7de61",
   "metadata": {},
   "source": [
    "Q8. Declare a variable named price and assign the value 9.99 to it. What data type does this variable\n",
    "belong to?"
   ]
  },
  {
   "cell_type": "code",
   "execution_count": 10,
   "id": "bb7c9ebc-df15-41f2-b79c-64109234af4c",
   "metadata": {},
   "outputs": [
    {
     "name": "stdout",
     "output_type": "stream",
     "text": [
      "<class 'float'>\n"
     ]
    }
   ],
   "source": [
    "price = 9.99\n",
    "print(type(price))"
   ]
  },
  {
   "cell_type": "markdown",
   "id": "4b41b2f1-95df-4142-afed-2400dd5945dd",
   "metadata": {},
   "source": [
    "Q9. Create a variable named name and assign your full name to it as a string. How would you print the\n",
    "value of this variable?"
   ]
  },
  {
   "cell_type": "code",
   "execution_count": 11,
   "id": "3778eced-d581-4334-a4a9-d9f37969b424",
   "metadata": {},
   "outputs": [
    {
     "name": "stdout",
     "output_type": "stream",
     "text": [
      "Mayuka\n"
     ]
    }
   ],
   "source": [
    "name = 'Mayuka'\n",
    "print(name)"
   ]
  },
  {
   "cell_type": "markdown",
   "id": "2854f8ad-31ca-4175-81b4-082bf2612f24",
   "metadata": {},
   "source": [
    "Q10. Given the string \"Hello, World!\", extract the substring \"World\"."
   ]
  },
  {
   "cell_type": "code",
   "execution_count": 12,
   "id": "9199e20b-e728-4016-970f-de0fb04cd146",
   "metadata": {},
   "outputs": [
    {
     "name": "stdout",
     "output_type": "stream",
     "text": [
      "World\n"
     ]
    }
   ],
   "source": [
    "s1 = \"Hello, World!\"\n",
    "subs1 = s1[7:12]\n",
    "print(subs1)"
   ]
  },
  {
   "cell_type": "markdown",
   "id": "1e2acb10-5b04-47a1-8fae-11d33d3255ab",
   "metadata": {},
   "source": [
    "Q11. Create a variable named \"is_student\" and assign it a boolean value indicating whether you are\n",
    "currently a student or not."
   ]
  },
  {
   "cell_type": "code",
   "execution_count": null,
   "id": "22cdb15c-3a1e-411d-a5b0-a7ca33672622",
   "metadata": {},
   "outputs": [],
   "source": [
    "is_student = True\n",
    "if is_student:\n",
    "    print"
   ]
  }
 ],
 "metadata": {
  "kernelspec": {
   "display_name": "Python 3 (ipykernel)",
   "language": "python",
   "name": "python3"
  },
  "language_info": {
   "codemirror_mode": {
    "name": "ipython",
    "version": 3
   },
   "file_extension": ".py",
   "mimetype": "text/x-python",
   "name": "python",
   "nbconvert_exporter": "python",
   "pygments_lexer": "ipython3",
   "version": "3.10.8"
  }
 },
 "nbformat": 4,
 "nbformat_minor": 5
}
